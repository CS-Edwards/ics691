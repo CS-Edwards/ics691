{
  "nbformat": 4,
  "nbformat_minor": 0,
  "metadata": {
    "colab": {
      "provenance": []
    },
    "kernelspec": {
      "name": "python3",
      "display_name": "Python 3"
    },
    "language_info": {
      "name": "python"
    }
  },
  "cells": [
    {
      "cell_type": "markdown",
      "source": [
        "# spaCy: Dependency Parsing + NER\n",
        "\n",
        "spaCy is a free open-source library for [Natural Language Processing](https://spacy.io/usage/linguistic-features) in Python. It features NER, POS tagging, dependency parsing, word vectors and more.\n"
      ],
      "metadata": {
        "id": "s_b9WdBDV8me"
      }
    },
    {
      "cell_type": "code",
      "execution_count": null,
      "metadata": {
        "id": "B2Pc6sRo_vOu"
      },
      "outputs": [],
      "source": [
        "import spacy\n",
        "from spacy import displacy"
      ]
    },
    {
      "cell_type": "code",
      "source": [
        "# Load the English language model\n",
        "# DOCUMENTATION:  https://spacy.io/api/top-level\n",
        "nlp = spacy.load(\"en_core_web_sm\")"
      ],
      "metadata": {
        "id": "FXCQGg6xK4P_"
      },
      "execution_count": null,
      "outputs": []
    },
    {
      "cell_type": "code",
      "source": [
        "#sentence = input('Enter a sentence: ')"
      ],
      "metadata": {
        "id": "2iykpj1rahx8"
      },
      "execution_count": null,
      "outputs": []
    },
    {
      "cell_type": "code",
      "source": [
        "#print(sentence)"
      ],
      "metadata": {
        "id": "RA7Bn7x2a-O4"
      },
      "execution_count": null,
      "outputs": []
    },
    {
      "cell_type": "code",
      "source": [
        "sentence = \"Issa and Iyvonne went to Inglewood. They work at HBO.\"\n"
      ],
      "metadata": {
        "id": "8Pmmcnq9RQTr"
      },
      "execution_count": null,
      "outputs": []
    },
    {
      "cell_type": "code",
      "source": [
        "doc = nlp(sentence)"
      ],
      "metadata": {
        "id": "Ggd6mabpgnn4"
      },
      "execution_count": null,
      "outputs": []
    },
    {
      "cell_type": "code",
      "source": [
        "len(doc)"
      ],
      "metadata": {
        "id": "uHhhfPTzRsKS"
      },
      "execution_count": null,
      "outputs": []
    },
    {
      "cell_type": "markdown",
      "source": [
        "## Dependency Parsing\n",
        "\n",
        "Tokenization and dependency parsing happens by default in : <br>\n",
        "```doc = nlp(sentence)```\n",
        "<br>\n",
        "<br>\n",
        " Docs: [Dependency Parser](https://spacy.io/api/dependencyparser)\n",
        "\n",
        "\n",
        "\n"
      ],
      "metadata": {
        "id": "3bk5h1jTd_YF"
      }
    },
    {
      "cell_type": "code",
      "source": [
        "# view some attr of DependencyParser class: token.dep, token.head ...\n",
        "for token in doc:\n",
        "  print(f\"{token}: {token.dep}\")"
      ],
      "metadata": {
        "id": "0_Z1k9wCSgGs"
      },
      "execution_count": null,
      "outputs": []
    },
    {
      "cell_type": "markdown",
      "source": [
        "## Dependency Parsing Visualization\n",
        "Using `displaCy` from `spaCy`, we can visualize the dependency parsing tree with:\n",
        "\n",
        "\n",
        "*   `displacy.render()`\n",
        "*   `displacy.serve()`\n",
        "\n",
        "The visualization can be customized using `options`.\n",
        "\n",
        "<br> Docs: [Visualization](https://spacy.io/usage/visualizers)"
      ],
      "metadata": {
        "id": "goqOvxuqiKas"
      }
    },
    {
      "cell_type": "code",
      "source": [
        "# displacy.serve(doc,style='dep')"
      ],
      "metadata": {
        "id": "3a7v--bAi3IP"
      },
      "execution_count": null,
      "outputs": []
    },
    {
      "cell_type": "code",
      "source": [
        "#use .render for colab/jupyter\n",
        "displacy.render(doc ,style='dep', jupyter=True)"
      ],
      "metadata": {
        "id": "v6Ntw_c4jx9g"
      },
      "execution_count": null,
      "outputs": []
    },
    {
      "cell_type": "code",
      "source": [
        "# styled viz\n",
        "options = {\"compact\": True, \"bg\": \"#09a3d5\",\n",
        "           \"color\": \"white\", \"font\": \"Source Sans Pro\"}\n",
        "displacy.render(doc, style=\"dep\", jupyter = True, options=options)"
      ],
      "metadata": {
        "id": "P-ZpfpSPk2zj"
      },
      "execution_count": null,
      "outputs": []
    },
    {
      "cell_type": "markdown",
      "source": [
        "## Task: Name Entity Recognition (NER)"
      ],
      "metadata": {
        "id": "nOrRCfXtmFEM"
      }
    },
    {
      "cell_type": "code",
      "source": [
        "recognized_entities = []\n",
        "\n",
        "for token in doc:\n",
        "    # check if the token is a named entity, which is determined based on dependency parsing\n",
        "    if token.ent_type_:\n",
        "        entity_type = token.ent_type_\n",
        "        recognized_entities.append((token.text, entity_type))\n",
        "\n",
        "for entity, entity_type in recognized_entities:\n",
        "    print(f\"{entity} is a {entity_type}\")"
      ],
      "metadata": {
        "id": "8k-ct-sHRW0A"
      },
      "execution_count": null,
      "outputs": []
    },
    {
      "cell_type": "markdown",
      "source": [
        "## Task: NER + Custom Rules"
      ],
      "metadata": {
        "id": "9qSjNzBVm7jf"
      }
    },
    {
      "cell_type": "code",
      "source": [
        "#custom rule function\n",
        "@spacy.Language.component(\"custom_ner_rule\")\n",
        "def custom_ner_rule(doc):\n",
        "  \"\"\"\n",
        "  Custom Named Entity Recognition (NER) rule to identify 'Issa' as a PERSON\n",
        "\n",
        "  Args:\n",
        "  doc (spacy.tokens.Doc): The spaCy processed document.\n",
        "\n",
        "  Returns:\n",
        "  spacy.tokens.Doc: The processed document with recognized entities.\n",
        "\n",
        "  \"\"\"\n",
        "  entities = []\n",
        "  for token in doc:\n",
        "      # Check if the token is a named entity based on dependency parsing\n",
        "      if token.ent_type_:\n",
        "          entity_type = token.ent_type_\n",
        "          recognized_entities.append((token.text, entity_type))\n",
        "\n",
        "      # Add a custom rule to recognize \"Issa\" as a \"PERSON\"\n",
        "      if token.text == \"Issa\":\n",
        "          entities.append((\"Issa\", \"PERSON\"))\n",
        "\n",
        "\n",
        "  # Create spans for recognized entities\n",
        "  with doc.retokenize() as retokenizer:\n",
        "      for entity_text, entity_type in entities:\n",
        "          words = entity_text.split()\n",
        "          start = doc.text.find(entity_text)\n",
        "          end = start + len(entity_text)\n",
        "          retokenizer.merge(doc[start:end], attrs={\"ent_type\": entity_type})\n",
        "\n",
        "  return doc  # Return the processed Doc object"
      ],
      "metadata": {
        "id": "XAsNbp0ZSfKZ"
      },
      "execution_count": null,
      "outputs": []
    },
    {
      "cell_type": "code",
      "source": [],
      "metadata": {
        "id": "gnoxEGuIB1gD"
      },
      "execution_count": null,
      "outputs": []
    },
    {
      "cell_type": "code",
      "source": [
        "# sentence = \"\"\"\n",
        "# Rae, who also costars in the upcoming American Fiction with Jeffery Wright,\n",
        "# recently debuted her very own Viarae Prosecco, an Italian sparkler she created\n",
        "# and founded in partnership with E. & J.\n",
        "# \"\"\""
      ],
      "metadata": {
        "id": "k1Nrc3JQwOkF"
      },
      "execution_count": null,
      "outputs": []
    },
    {
      "cell_type": "code",
      "source": [
        "print(sentence)"
      ],
      "metadata": {
        "id": "jZdK8w6k8CxX"
      },
      "execution_count": null,
      "outputs": []
    },
    {
      "cell_type": "code",
      "source": [
        "# Add the custom rule to the pipeline\n",
        "nlp.add_pipe(\"custom_ner_rule\")\n",
        "doc = nlp(sentence)"
      ],
      "metadata": {
        "id": "79SYqOdMn-xT"
      },
      "execution_count": null,
      "outputs": []
    },
    {
      "cell_type": "code",
      "source": [
        "recognized_entities = []\n",
        "recognized_entities"
      ],
      "metadata": {
        "id": "eXYlEVWnKggt"
      },
      "execution_count": null,
      "outputs": []
    },
    {
      "cell_type": "code",
      "source": [
        "for token in doc:\n",
        "    if token.ent_type_:\n",
        "        entity_type = token.ent_type_\n",
        "        recognized_entities.append((token.text, entity_type))"
      ],
      "metadata": {
        "id": "43xnQ6Il4Mor"
      },
      "execution_count": null,
      "outputs": []
    },
    {
      "cell_type": "code",
      "source": [
        "for entity, entity_type in recognized_entities:\n",
        "    print(f\"{entity} is a {entity_type}\")"
      ],
      "metadata": {
        "id": "YBGr7v-I5P3g"
      },
      "execution_count": null,
      "outputs": []
    },
    {
      "cell_type": "markdown",
      "source": [
        "<font color=\"purple\"> <b>Note:</b> There is a known issue with this output. </font>\n",
        "\n",
        "Expected:\n",
        "```\n",
        "Issa is a PERSON\n",
        "Iyvonne is a PERSON\n",
        "Inglewood is a ORG\n",
        "HBO is a ORG\n",
        "```"
      ],
      "metadata": {
        "id": "0jh8xSWYLuM1"
      }
    },
    {
      "cell_type": "markdown",
      "source": [
        "[![Built with spaCy](https://img.shields.io/badge/built%20with-spaCy-09a3d5.svg)](https://spacy.io)"
      ],
      "metadata": {
        "id": "RNWn7wjuaKxD"
      }
    },
    {
      "cell_type": "code",
      "source": [],
      "metadata": {
        "id": "AHRsXIkLaLnV"
      },
      "execution_count": null,
      "outputs": []
    }
  ]
}